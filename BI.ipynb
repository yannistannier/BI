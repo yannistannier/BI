{
 "cells": [
  {
   "cell_type": "code",
   "execution_count": 17,
   "metadata": {},
   "outputs": [],
   "source": [
    "import pandas as pd\n",
    "import numpy as np\n",
    "from tqdm import tqdm\n",
    "import matplotlib.pyplot as plt"
   ]
  },
  {
   "cell_type": "markdown",
   "metadata": {},
   "source": [
    "#### Question 1,2,3,4"
   ]
  },
  {
   "cell_type": "code",
   "execution_count": 2,
   "metadata": {},
   "outputs": [],
   "source": [
    "filename = \"DBLPOnlyCitationOct19.txt\""
   ]
  },
  {
   "cell_type": "code",
   "execution_count": 3,
   "metadata": {},
   "outputs": [],
   "source": [
    "datas = tuple(open(filename, 'r',  encoding=\"utf8\"))"
   ]
  },
  {
   "cell_type": "code",
   "execution_count": 4,
   "metadata": {},
   "outputs": [
    {
     "data": {
      "text/plain": [
       "12775615"
      ]
     },
     "execution_count": 4,
     "metadata": {},
     "output_type": "execute_result"
    }
   ],
   "source": [
    "len(datas)"
   ]
  },
  {
   "cell_type": "code",
   "execution_count": 5,
   "metadata": {},
   "outputs": [
    {
     "name": "stderr",
     "output_type": "stream",
     "text": [
      "100%|██████████| 12775615/12775615 [00:17<00:00, 731075.92it/s]\n"
     ]
    }
   ],
   "source": [
    "line = \"\"\n",
    "save = []\n",
    "sg = False\n",
    "\n",
    "\n",
    "for s in tqdm(datas):\n",
    "    s = s.replace(\"\\n\", \"\")\n",
    "    if \"#*\" in s:\n",
    "        if sg:\n",
    "            save.append(\n",
    "                {\"id\" : id_title,\"title\":title, \"author\": author, \"venu\" : venu, \n",
    "                 \"year\": year, \"reference\": publi, \"nbAuthor\" : len(author.split(',')),\n",
    "                 \"type\": tpe}\n",
    "            )\n",
    "        else:\n",
    "            sg = True\n",
    "        publi = 0\n",
    "        title = s[2:]\n",
    "        id_title = \"\"\n",
    "        author = \"\"\n",
    "        year=\"\"\n",
    "        venu=\"\"\n",
    "        tpe = \"Other\"\n",
    "        \n",
    "    if \"#index\" in s:\n",
    "        id_title = s[6:]\n",
    "    if \"#@\" in s :\n",
    "        author = s[2:]\n",
    "    if \"#t\" in s:\n",
    "        year = s[2:]\n",
    "    if \"#c\" in s:\n",
    "        venu = s[2:]\n",
    "        if \"STOC\" in s:\n",
    "            tpe = \"STOC\"\n",
    "        if \"SIGIR\" in s :\n",
    "            tpe = \"SIGIR\"\n",
    "    if \"#%\" in s:\n",
    "        publi += 1"
   ]
  },
  {
   "cell_type": "code",
   "execution_count": 6,
   "metadata": {},
   "outputs": [],
   "source": [
    "dt = pd.DataFrame(save)"
   ]
  },
  {
   "cell_type": "code",
   "execution_count": 65,
   "metadata": {},
   "outputs": [],
   "source": [
    "# dt.to_csv(\"datas.csv\", sep=',')"
   ]
  },
  {
   "cell_type": "markdown",
   "metadata": {},
   "source": [
    "Get only STOC and SIGIR"
   ]
  },
  {
   "cell_type": "code",
   "execution_count": 8,
   "metadata": {},
   "outputs": [],
   "source": [
    "siam_aai = dt[dt[\"type\"]!=\"Other\"]"
   ]
  },
  {
   "cell_type": "code",
   "execution_count": 9,
   "metadata": {},
   "outputs": [
    {
     "data": {
      "text/html": [
       "<div>\n",
       "<style scoped>\n",
       "    .dataframe tbody tr th:only-of-type {\n",
       "        vertical-align: middle;\n",
       "    }\n",
       "\n",
       "    .dataframe tbody tr th {\n",
       "        vertical-align: top;\n",
       "    }\n",
       "\n",
       "    .dataframe thead th {\n",
       "        text-align: right;\n",
       "    }\n",
       "</style>\n",
       "<table border=\"1\" class=\"dataframe\">\n",
       "  <thead>\n",
       "    <tr style=\"text-align: right;\">\n",
       "      <th></th>\n",
       "      <th>author</th>\n",
       "      <th>id</th>\n",
       "      <th>nbAuthor</th>\n",
       "      <th>reference</th>\n",
       "      <th>title</th>\n",
       "      <th>type</th>\n",
       "      <th>venu</th>\n",
       "      <th>year</th>\n",
       "    </tr>\n",
       "  </thead>\n",
       "  <tbody>\n",
       "    <tr>\n",
       "      <th>594377</th>\n",
       "      <td>Krisztian Balog,Leif Azzopardi,Maarten de Rijke</td>\n",
       "      <td>594377</td>\n",
       "      <td>3</td>\n",
       "      <td>11</td>\n",
       "      <td>Formal models for expert finding in enterprise...</td>\n",
       "      <td>SIGIR</td>\n",
       "      <td>SIGIR</td>\n",
       "      <td>2006</td>\n",
       "    </tr>\n",
       "    <tr>\n",
       "      <th>594378</th>\n",
       "      <td>Brian T. Bartell,Garrison W. Cottrell,Richard ...</td>\n",
       "      <td>594378</td>\n",
       "      <td>3</td>\n",
       "      <td>2</td>\n",
       "      <td>Latent Semantic Indexing is an Optimal Special...</td>\n",
       "      <td>SIGIR</td>\n",
       "      <td>SIGIR</td>\n",
       "      <td>1992</td>\n",
       "    </tr>\n",
       "    <tr>\n",
       "      <th>594379</th>\n",
       "      <td>Rie Kubota Ando</td>\n",
       "      <td>594379</td>\n",
       "      <td>1</td>\n",
       "      <td>11</td>\n",
       "      <td>Latent semantic-space: iterative scaling impro...</td>\n",
       "      <td>SIGIR</td>\n",
       "      <td>SIGIR</td>\n",
       "      <td>2000</td>\n",
       "    </tr>\n",
       "    <tr>\n",
       "      <th>594380</th>\n",
       "      <td>Brian T. Bartell,Garrison W. Cottrell,Richard ...</td>\n",
       "      <td>594380</td>\n",
       "      <td>3</td>\n",
       "      <td>6</td>\n",
       "      <td>Automatic Combination of Multiple Ranked Retri...</td>\n",
       "      <td>SIGIR</td>\n",
       "      <td>SIGIR</td>\n",
       "      <td>1994</td>\n",
       "    </tr>\n",
       "    <tr>\n",
       "      <th>594381</th>\n",
       "      <td>Christine Barthes,Pierre Glize</td>\n",
       "      <td>594381</td>\n",
       "      <td>2</td>\n",
       "      <td>4</td>\n",
       "      <td>Planning in an Expert System for Automated Inf...</td>\n",
       "      <td>SIGIR</td>\n",
       "      <td>SIGIR</td>\n",
       "      <td>1988</td>\n",
       "    </tr>\n",
       "  </tbody>\n",
       "</table>\n",
       "</div>"
      ],
      "text/plain": [
       "                                                   author      id  nbAuthor  \\\n",
       "594377    Krisztian Balog,Leif Azzopardi,Maarten de Rijke  594377         3   \n",
       "594378  Brian T. Bartell,Garrison W. Cottrell,Richard ...  594378         3   \n",
       "594379                                    Rie Kubota Ando  594379         1   \n",
       "594380  Brian T. Bartell,Garrison W. Cottrell,Richard ...  594380         3   \n",
       "594381                     Christine Barthes,Pierre Glize  594381         2   \n",
       "\n",
       "        reference                                              title   type  \\\n",
       "594377         11  Formal models for expert finding in enterprise...  SIGIR   \n",
       "594378          2  Latent Semantic Indexing is an Optimal Special...  SIGIR   \n",
       "594379         11  Latent semantic-space: iterative scaling impro...  SIGIR   \n",
       "594380          6  Automatic Combination of Multiple Ranked Retri...  SIGIR   \n",
       "594381          4  Planning in an Expert System for Automated Inf...  SIGIR   \n",
       "\n",
       "         venu  year  \n",
       "594377  SIGIR  2006  \n",
       "594378  SIGIR  1992  \n",
       "594379  SIGIR  2000  \n",
       "594380  SIGIR  1994  \n",
       "594381  SIGIR  1988  "
      ]
     },
     "execution_count": 9,
     "metadata": {},
     "output_type": "execute_result"
    }
   ],
   "source": [
    "siam_aai.head()"
   ]
  },
  {
   "cell_type": "markdown",
   "metadata": {},
   "source": [
    "Remove article without author"
   ]
  },
  {
   "cell_type": "code",
   "execution_count": 58,
   "metadata": {},
   "outputs": [
    {
     "data": {
      "text/plain": [
       "5828"
      ]
     },
     "execution_count": 58,
     "metadata": {},
     "output_type": "execute_result"
    }
   ],
   "source": [
    "len(siam_aai)"
   ]
  },
  {
   "cell_type": "code",
   "execution_count": 10,
   "metadata": {},
   "outputs": [],
   "source": [
    "siam_aai_clean = siam_aai[siam_aai['author'].notnull()]"
   ]
  },
  {
   "cell_type": "code",
   "execution_count": 12,
   "metadata": {},
   "outputs": [
    {
     "data": {
      "text/plain": [
       "5828"
      ]
     },
     "execution_count": 12,
     "metadata": {},
     "output_type": "execute_result"
    }
   ],
   "source": [
    "len(siam_aai_clean)"
   ]
  },
  {
   "cell_type": "code",
   "execution_count": 60,
   "metadata": {},
   "outputs": [],
   "source": [
    "siam_aai_clean.to_csv(\"stoc_sigir.csv\", index=False)"
   ]
  },
  {
   "cell_type": "code",
   "execution_count": 132,
   "metadata": {},
   "outputs": [
    {
     "data": {
      "text/html": [
       "<div>\n",
       "<style scoped>\n",
       "    .dataframe tbody tr th:only-of-type {\n",
       "        vertical-align: middle;\n",
       "    }\n",
       "\n",
       "    .dataframe tbody tr th {\n",
       "        vertical-align: top;\n",
       "    }\n",
       "\n",
       "    .dataframe thead th {\n",
       "        text-align: right;\n",
       "    }\n",
       "</style>\n",
       "<table border=\"1\" class=\"dataframe\">\n",
       "  <thead>\n",
       "    <tr style=\"text-align: right;\">\n",
       "      <th></th>\n",
       "      <th>Unnamed: 0</th>\n",
       "      <th>author</th>\n",
       "      <th>id</th>\n",
       "      <th>nbAuthor</th>\n",
       "      <th>reference</th>\n",
       "      <th>title</th>\n",
       "      <th>type</th>\n",
       "      <th>venu</th>\n",
       "      <th>year</th>\n",
       "    </tr>\n",
       "  </thead>\n",
       "  <tbody>\n",
       "    <tr>\n",
       "      <th>595551</th>\n",
       "      <td>595551</td>\n",
       "      <td>Jay M. Ponte,W. Bruce Croft</td>\n",
       "      <td>595551</td>\n",
       "      <td>2</td>\n",
       "      <td>6</td>\n",
       "      <td>A Language Modeling Approach to Information Re...</td>\n",
       "      <td>SIGIR</td>\n",
       "      <td>SIGIR</td>\n",
       "      <td>1998</td>\n",
       "    </tr>\n",
       "  </tbody>\n",
       "</table>\n",
       "</div>"
      ],
      "text/plain": [
       "        Unnamed: 0                       author      id  nbAuthor  reference  \\\n",
       "595551      595551  Jay M. Ponte,W. Bruce Croft  595551         2          6   \n",
       "\n",
       "                                                    title   type   venu  year  \n",
       "595551  A Language Modeling Approach to Information Re...  SIGIR  SIGIR  1998  "
      ]
     },
     "execution_count": 132,
     "metadata": {},
     "output_type": "execute_result"
    }
   ],
   "source": [
    "siam_aai[siam_aai[\"title\"] == \"A Language Modeling Approach to Information Retrieval.\"]"
   ]
  },
  {
   "cell_type": "markdown",
   "metadata": {},
   "source": [
    "### Question 5 - matrix document terme titre articles"
   ]
  },
  {
   "cell_type": "code",
   "execution_count": 29,
   "metadata": {},
   "outputs": [],
   "source": [
    "from sklearn.feature_extraction.text import CountVectorizer"
   ]
  },
  {
   "cell_type": "code",
   "execution_count": 30,
   "metadata": {},
   "outputs": [],
   "source": [
    "# On enleve les stop words \n",
    "count_vect = CountVectorizer(input=\"content\", stop_words=\"english\")"
   ]
  },
  {
   "cell_type": "code",
   "execution_count": 31,
   "metadata": {},
   "outputs": [],
   "source": [
    "siam_aai = pd.read_csv(\"stoc_sigir.csv\")"
   ]
  },
  {
   "cell_type": "code",
   "execution_count": 32,
   "metadata": {},
   "outputs": [],
   "source": [
    "text = list(siam_aai[\"title\"])"
   ]
  },
  {
   "cell_type": "code",
   "execution_count": 33,
   "metadata": {},
   "outputs": [
    {
     "data": {
      "text/plain": [
       "CountVectorizer(analyzer=u'word', binary=False, decode_error=u'strict',\n",
       "        dtype=<type 'numpy.int64'>, encoding=u'utf-8', input='content',\n",
       "        lowercase=True, max_df=1.0, max_features=None, min_df=1,\n",
       "        ngram_range=(1, 1), preprocessor=None, stop_words='english',\n",
       "        strip_accents=None, token_pattern=u'(?u)\\\\b\\\\w\\\\w+\\\\b',\n",
       "        tokenizer=None, vocabulary=None)"
      ]
     },
     "execution_count": 33,
     "metadata": {},
     "output_type": "execute_result"
    }
   ],
   "source": [
    "count_vect.fit(text)"
   ]
  },
  {
   "cell_type": "code",
   "execution_count": 34,
   "metadata": {},
   "outputs": [],
   "source": [
    "X = count_vect.transform(text)"
   ]
  },
  {
   "cell_type": "code",
   "execution_count": 35,
   "metadata": {},
   "outputs": [],
   "source": [
    "voc = [ key for key,value in count_vect.vocabulary_.items()]"
   ]
  },
  {
   "cell_type": "code",
   "execution_count": 36,
   "metadata": {},
   "outputs": [],
   "source": [
    "doc_terme = pd.DataFrame(X.todense(), columns = voc)"
   ]
  },
  {
   "cell_type": "code",
   "execution_count": 37,
   "metadata": {},
   "outputs": [],
   "source": [
    "# add column id\n",
    "doc_terme.insert(0, 'id', list(siam_aai[\"id\"]))"
   ]
  },
  {
   "cell_type": "code",
   "execution_count": 38,
   "metadata": {},
   "outputs": [
    {
     "data": {
      "text/html": [
       "<div>\n",
       "<style scoped>\n",
       "    .dataframe tbody tr th:only-of-type {\n",
       "        vertical-align: middle;\n",
       "    }\n",
       "\n",
       "    .dataframe tbody tr th {\n",
       "        vertical-align: top;\n",
       "    }\n",
       "\n",
       "    .dataframe thead th {\n",
       "        text-align: right;\n",
       "    }\n",
       "</style>\n",
       "<table border=\"1\" class=\"dataframe\">\n",
       "  <thead>\n",
       "    <tr style=\"text-align: right;\">\n",
       "      <th></th>\n",
       "      <th>id</th>\n",
       "      <th>aided</th>\n",
       "      <th>homomorphism</th>\n",
       "      <th>similarity</th>\n",
       "      <th>squared</th>\n",
       "      <th>dynamic</th>\n",
       "      <th>reedback</th>\n",
       "      <th>prefix</th>\n",
       "      <th>asian</th>\n",
       "      <th>preface</th>\n",
       "      <th>...</th>\n",
       "      <th>hyperterms</th>\n",
       "      <th>hnc</th>\n",
       "      <th>bch</th>\n",
       "      <th>coupling</th>\n",
       "      <th>ranks</th>\n",
       "      <th>blogs</th>\n",
       "      <th>factors</th>\n",
       "      <th>persistent</th>\n",
       "      <th>validation</th>\n",
       "      <th>bcs</th>\n",
       "    </tr>\n",
       "  </thead>\n",
       "  <tbody>\n",
       "    <tr>\n",
       "      <th>0</th>\n",
       "      <td>594377</td>\n",
       "      <td>0</td>\n",
       "      <td>0</td>\n",
       "      <td>0</td>\n",
       "      <td>0</td>\n",
       "      <td>0</td>\n",
       "      <td>0</td>\n",
       "      <td>0</td>\n",
       "      <td>0</td>\n",
       "      <td>0</td>\n",
       "      <td>...</td>\n",
       "      <td>0</td>\n",
       "      <td>0</td>\n",
       "      <td>0</td>\n",
       "      <td>0</td>\n",
       "      <td>0</td>\n",
       "      <td>0</td>\n",
       "      <td>0</td>\n",
       "      <td>0</td>\n",
       "      <td>0</td>\n",
       "      <td>0</td>\n",
       "    </tr>\n",
       "    <tr>\n",
       "      <th>1</th>\n",
       "      <td>594378</td>\n",
       "      <td>0</td>\n",
       "      <td>0</td>\n",
       "      <td>0</td>\n",
       "      <td>0</td>\n",
       "      <td>0</td>\n",
       "      <td>0</td>\n",
       "      <td>0</td>\n",
       "      <td>0</td>\n",
       "      <td>0</td>\n",
       "      <td>...</td>\n",
       "      <td>0</td>\n",
       "      <td>0</td>\n",
       "      <td>0</td>\n",
       "      <td>0</td>\n",
       "      <td>0</td>\n",
       "      <td>0</td>\n",
       "      <td>0</td>\n",
       "      <td>0</td>\n",
       "      <td>0</td>\n",
       "      <td>0</td>\n",
       "    </tr>\n",
       "    <tr>\n",
       "      <th>2</th>\n",
       "      <td>594379</td>\n",
       "      <td>0</td>\n",
       "      <td>0</td>\n",
       "      <td>0</td>\n",
       "      <td>0</td>\n",
       "      <td>0</td>\n",
       "      <td>0</td>\n",
       "      <td>0</td>\n",
       "      <td>0</td>\n",
       "      <td>0</td>\n",
       "      <td>...</td>\n",
       "      <td>0</td>\n",
       "      <td>0</td>\n",
       "      <td>0</td>\n",
       "      <td>0</td>\n",
       "      <td>0</td>\n",
       "      <td>0</td>\n",
       "      <td>0</td>\n",
       "      <td>0</td>\n",
       "      <td>0</td>\n",
       "      <td>0</td>\n",
       "    </tr>\n",
       "    <tr>\n",
       "      <th>3</th>\n",
       "      <td>594380</td>\n",
       "      <td>0</td>\n",
       "      <td>0</td>\n",
       "      <td>0</td>\n",
       "      <td>0</td>\n",
       "      <td>0</td>\n",
       "      <td>0</td>\n",
       "      <td>0</td>\n",
       "      <td>0</td>\n",
       "      <td>0</td>\n",
       "      <td>...</td>\n",
       "      <td>0</td>\n",
       "      <td>0</td>\n",
       "      <td>0</td>\n",
       "      <td>0</td>\n",
       "      <td>0</td>\n",
       "      <td>0</td>\n",
       "      <td>0</td>\n",
       "      <td>0</td>\n",
       "      <td>0</td>\n",
       "      <td>0</td>\n",
       "    </tr>\n",
       "    <tr>\n",
       "      <th>4</th>\n",
       "      <td>594381</td>\n",
       "      <td>0</td>\n",
       "      <td>0</td>\n",
       "      <td>0</td>\n",
       "      <td>0</td>\n",
       "      <td>0</td>\n",
       "      <td>0</td>\n",
       "      <td>0</td>\n",
       "      <td>0</td>\n",
       "      <td>0</td>\n",
       "      <td>...</td>\n",
       "      <td>0</td>\n",
       "      <td>0</td>\n",
       "      <td>0</td>\n",
       "      <td>0</td>\n",
       "      <td>0</td>\n",
       "      <td>0</td>\n",
       "      <td>0</td>\n",
       "      <td>0</td>\n",
       "      <td>0</td>\n",
       "      <td>0</td>\n",
       "    </tr>\n",
       "  </tbody>\n",
       "</table>\n",
       "<p>5 rows × 5192 columns</p>\n",
       "</div>"
      ],
      "text/plain": [
       "       id  aided  homomorphism  similarity  squared  dynamic  reedback  \\\n",
       "0  594377      0             0           0        0        0         0   \n",
       "1  594378      0             0           0        0        0         0   \n",
       "2  594379      0             0           0        0        0         0   \n",
       "3  594380      0             0           0        0        0         0   \n",
       "4  594381      0             0           0        0        0         0   \n",
       "\n",
       "   prefix  asian  preface ...   hyperterms  hnc  bch  coupling  ranks  blogs  \\\n",
       "0       0      0        0 ...            0    0    0         0      0      0   \n",
       "1       0      0        0 ...            0    0    0         0      0      0   \n",
       "2       0      0        0 ...            0    0    0         0      0      0   \n",
       "3       0      0        0 ...            0    0    0         0      0      0   \n",
       "4       0      0        0 ...            0    0    0         0      0      0   \n",
       "\n",
       "   factors  persistent  validation  bcs  \n",
       "0        0           0           0    0  \n",
       "1        0           0           0    0  \n",
       "2        0           0           0    0  \n",
       "3        0           0           0    0  \n",
       "4        0           0           0    0  \n",
       "\n",
       "[5 rows x 5192 columns]"
      ]
     },
     "execution_count": 38,
     "metadata": {},
     "output_type": "execute_result"
    }
   ],
   "source": [
    "doc_terme.head()"
   ]
  },
  {
   "cell_type": "code",
   "execution_count": 42,
   "metadata": {},
   "outputs": [],
   "source": [
    "doc_terme.to_csv(\"doc_terme_title.csv\", index=False, encoding = 'utf-8')"
   ]
  },
  {
   "cell_type": "markdown",
   "metadata": {},
   "source": [
    "#### Question 6"
   ]
  },
  {
   "cell_type": "markdown",
   "metadata": {},
   "source": [
    "Creer le dataframe authors"
   ]
  },
  {
   "cell_type": "code",
   "execution_count": 13,
   "metadata": {},
   "outputs": [],
   "source": [
    "siam_aai = pd.read_csv(\"stoc_sigir.csv\")"
   ]
  },
  {
   "cell_type": "code",
   "execution_count": 14,
   "metadata": {},
   "outputs": [],
   "source": [
    "all_author = []"
   ]
  },
  {
   "cell_type": "code",
   "execution_count": 15,
   "metadata": {},
   "outputs": [],
   "source": [
    "author = [str(x).split(',') for x in list(siam_aai[\"author\"])]\n",
    "# set puis list => retire les doublons et renvoie une list\n",
    "list_author = list(set([item for sublist in author for item in sublist]))"
   ]
  },
  {
   "cell_type": "code",
   "execution_count": 16,
   "metadata": {},
   "outputs": [],
   "source": [
    "authors = [ {\"id\":index, \"author\":value} for index, value in enumerate(list_author) ]"
   ]
  },
  {
   "cell_type": "code",
   "execution_count": 17,
   "metadata": {},
   "outputs": [],
   "source": [
    "a_df = pd.DataFrame(authors)\n",
    "a_df.to_csv(\"authors.csv\", sep=',')"
   ]
  },
  {
   "cell_type": "code",
   "execution_count": 18,
   "metadata": {},
   "outputs": [],
   "source": [
    "a_df = pd.read_csv(\"authors.csv\")"
   ]
  },
  {
   "cell_type": "code",
   "execution_count": 21,
   "metadata": {},
   "outputs": [
    {
     "data": {
      "text/html": [
       "<div>\n",
       "<style scoped>\n",
       "    .dataframe tbody tr th:only-of-type {\n",
       "        vertical-align: middle;\n",
       "    }\n",
       "\n",
       "    .dataframe tbody tr th {\n",
       "        vertical-align: top;\n",
       "    }\n",
       "\n",
       "    .dataframe thead th {\n",
       "        text-align: right;\n",
       "    }\n",
       "</style>\n",
       "<table border=\"1\" class=\"dataframe\">\n",
       "  <thead>\n",
       "    <tr style=\"text-align: right;\">\n",
       "      <th></th>\n",
       "      <th>author</th>\n",
       "      <th>id</th>\n",
       "    </tr>\n",
       "  </thead>\n",
       "  <tbody>\n",
       "    <tr>\n",
       "      <th>0</th>\n",
       "      <td>Sung-Soon Choi</td>\n",
       "      <td>0</td>\n",
       "    </tr>\n",
       "    <tr>\n",
       "      <th>1</th>\n",
       "      <td>Spyros C. Kontogiannis</td>\n",
       "      <td>1</td>\n",
       "    </tr>\n",
       "    <tr>\n",
       "      <th>2</th>\n",
       "      <td>Hitoshi Suzuki</td>\n",
       "      <td>2</td>\n",
       "    </tr>\n",
       "    <tr>\n",
       "      <th>3</th>\n",
       "      <td>Ting Liu</td>\n",
       "      <td>3</td>\n",
       "    </tr>\n",
       "    <tr>\n",
       "      <th>4</th>\n",
       "      <td>Srikanta J. Bedathur</td>\n",
       "      <td>4</td>\n",
       "    </tr>\n",
       "  </tbody>\n",
       "</table>\n",
       "</div>"
      ],
      "text/plain": [
       "                   author  id\n",
       "0          Sung-Soon Choi   0\n",
       "1  Spyros C. Kontogiannis   1\n",
       "2          Hitoshi Suzuki   2\n",
       "3                Ting Liu   3\n",
       "4    Srikanta J. Bedathur   4"
      ]
     },
     "execution_count": 21,
     "metadata": {},
     "output_type": "execute_result"
    }
   ],
   "source": [
    "a_df.head()"
   ]
  },
  {
   "cell_type": "markdown",
   "metadata": {},
   "source": [
    "Creer le dataframe qui relie authors - articles (comme un join sql)"
   ]
  },
  {
   "cell_type": "code",
   "execution_count": 45,
   "metadata": {},
   "outputs": [],
   "source": [
    "list_publi_authors={x[1][\"id\"]: str(x[1][\"author\"]).split(\",\") for x in siam_aai.iterrows()}"
   ]
  },
  {
   "cell_type": "code",
   "execution_count": 46,
   "metadata": {},
   "outputs": [],
   "source": [
    "l = [ (v, x[0]) for x in list_publi_authors.items() for v in x[1] ]"
   ]
  },
  {
   "cell_type": "code",
   "execution_count": 47,
   "metadata": {},
   "outputs": [],
   "source": [
    "dt_auth_id = pd.DataFrame(l, columns=[\"author\", \"id_publication\"])"
   ]
  },
  {
   "cell_type": "code",
   "execution_count": null,
   "metadata": {},
   "outputs": [],
   "source": []
  },
  {
   "cell_type": "code",
   "execution_count": 22,
   "metadata": {},
   "outputs": [],
   "source": [
    "# on join sur la colonne author afin d'avoir la liste de tout les authors par publication\n",
    "dt_author_publication = pd.merge(dt_auth_id, a_df, on='author')"
   ]
  },
  {
   "cell_type": "code",
   "execution_count": 23,
   "metadata": {},
   "outputs": [],
   "source": [
    "dt_author_publication = dt_author_publication.rename(index=str, columns={\"id\": \"id_author\"})"
   ]
  },
  {
   "cell_type": "code",
   "execution_count": 24,
   "metadata": {},
   "outputs": [],
   "source": [
    "dt_author_publication.to_csv(\"author_publication\", index=False)"
   ]
  },
  {
   "cell_type": "code",
   "execution_count": 25,
   "metadata": {},
   "outputs": [
    {
     "data": {
      "text/html": [
       "<div>\n",
       "<style scoped>\n",
       "    .dataframe tbody tr th:only-of-type {\n",
       "        vertical-align: middle;\n",
       "    }\n",
       "\n",
       "    .dataframe tbody tr th {\n",
       "        vertical-align: top;\n",
       "    }\n",
       "\n",
       "    .dataframe thead th {\n",
       "        text-align: right;\n",
       "    }\n",
       "</style>\n",
       "<table border=\"1\" class=\"dataframe\">\n",
       "  <thead>\n",
       "    <tr style=\"text-align: right;\">\n",
       "      <th></th>\n",
       "      <th>author</th>\n",
       "      <th>id_publication</th>\n",
       "      <th>id_author</th>\n",
       "    </tr>\n",
       "  </thead>\n",
       "  <tbody>\n",
       "    <tr>\n",
       "      <th>0</th>\n",
       "      <td>Krisztian Balog</td>\n",
       "      <td>594377</td>\n",
       "      <td>476</td>\n",
       "    </tr>\n",
       "    <tr>\n",
       "      <th>1</th>\n",
       "      <td>Krisztian Balog</td>\n",
       "      <td>596103</td>\n",
       "      <td>476</td>\n",
       "    </tr>\n",
       "    <tr>\n",
       "      <th>2</th>\n",
       "      <td>Krisztian Balog</td>\n",
       "      <td>596206</td>\n",
       "      <td>476</td>\n",
       "    </tr>\n",
       "    <tr>\n",
       "      <th>3</th>\n",
       "      <td>Krisztian Balog</td>\n",
       "      <td>596213</td>\n",
       "      <td>476</td>\n",
       "    </tr>\n",
       "    <tr>\n",
       "      <th>4</th>\n",
       "      <td>Krisztian Balog</td>\n",
       "      <td>596218</td>\n",
       "      <td>476</td>\n",
       "    </tr>\n",
       "  </tbody>\n",
       "</table>\n",
       "</div>"
      ],
      "text/plain": [
       "            author  id_publication  id_author\n",
       "0  Krisztian Balog          594377        476\n",
       "1  Krisztian Balog          596103        476\n",
       "2  Krisztian Balog          596206        476\n",
       "3  Krisztian Balog          596213        476\n",
       "4  Krisztian Balog          596218        476"
      ]
     },
     "execution_count": 25,
     "metadata": {},
     "output_type": "execute_result"
    }
   ],
   "source": [
    "dt_author_publication.head()"
   ]
  },
  {
   "cell_type": "code",
   "execution_count": 112,
   "metadata": {},
   "outputs": [],
   "source": [
    "dt_author_publication = pd.read_csv(\"author_publication\")"
   ]
  },
  {
   "cell_type": "markdown",
   "metadata": {},
   "source": [
    "#### Question 7"
   ]
  },
  {
   "cell_type": "markdown",
   "metadata": {},
   "source": [
    "Creation de la matrix document_terme sur les citations"
   ]
  },
  {
   "cell_type": "code",
   "execution_count": 59,
   "metadata": {},
   "outputs": [],
   "source": [
    "siam_aai = pd.read_csv(\"stoc_sigir.csv\")"
   ]
  },
  {
   "cell_type": "code",
   "execution_count": 60,
   "metadata": {},
   "outputs": [],
   "source": [
    "from tqdm import tqdm_notebook"
   ]
  },
  {
   "cell_type": "code",
   "execution_count": 62,
   "metadata": {},
   "outputs": [
    {
     "data": {
      "application/vnd.jupyter.widget-view+json": {
       "model_id": "3099b5c80805489ab2345c68e0e9de11",
       "version_major": 2,
       "version_minor": 0
      },
      "text/plain": [
       "HBox(children=(IntProgress(value=0, max=12775614), HTML(value=u'')))"
      ]
     },
     "metadata": {},
     "output_type": "display_data"
    },
    {
     "name": "stdout",
     "output_type": "stream",
     "text": [
      "\n"
     ]
    }
   ],
   "source": [
    "term = []\n",
    "doc = []\n",
    "ok = False\n",
    "for s in tqdm_notebook(datas):\n",
    "    if \"#index\" in s :\n",
    "        ref = int(s[6:].replace(\"\\n\", \"\"))\n",
    "    if \"STOC\" in s or \"SIGIR\" in s :\n",
    "        ok=True\n",
    "    if \"#%\" in s:\n",
    "        citation = s[2:].replace(\"\\n\", \"\")\n",
    "        if ok :\n",
    "            term.append( citation )\n",
    "            doc.append( ref )\n",
    "            ok=False"
   ]
  },
  {
   "cell_type": "code",
   "execution_count": 67,
   "metadata": {},
   "outputs": [],
   "source": [
    "count_vect = CountVectorizer()"
   ]
  },
  {
   "cell_type": "code",
   "execution_count": 68,
   "metadata": {},
   "outputs": [
    {
     "data": {
      "text/plain": [
       "CountVectorizer(analyzer=u'word', binary=False, decode_error=u'strict',\n",
       "        dtype=<type 'numpy.int64'>, encoding=u'utf-8', input=u'content',\n",
       "        lowercase=True, max_df=1.0, max_features=None, min_df=1,\n",
       "        ngram_range=(1, 1), preprocessor=None, stop_words=None,\n",
       "        strip_accents=None, token_pattern=u'(?u)\\\\b\\\\w\\\\w+\\\\b',\n",
       "        tokenizer=None, vocabulary=None)"
      ]
     },
     "execution_count": 68,
     "metadata": {},
     "output_type": "execute_result"
    }
   ],
   "source": [
    "count_vect.fit(term)"
   ]
  },
  {
   "cell_type": "code",
   "execution_count": 69,
   "metadata": {},
   "outputs": [],
   "source": [
    "X = count_vect.transform(term)"
   ]
  },
  {
   "cell_type": "code",
   "execution_count": 70,
   "metadata": {},
   "outputs": [
    {
     "data": {
      "text/plain": [
       "True"
      ]
     },
     "execution_count": 70,
     "metadata": {},
     "output_type": "execute_result"
    }
   ],
   "source": [
    "X.todense().sum() == len(term)"
   ]
  },
  {
   "cell_type": "code",
   "execution_count": 71,
   "metadata": {},
   "outputs": [],
   "source": [
    "article_doc_term = pd.DataFrame(X.todense(), columns=count_vect.vocabulary_)"
   ]
  },
  {
   "cell_type": "code",
   "execution_count": 72,
   "metadata": {},
   "outputs": [],
   "source": [
    "article_doc_term.insert(0, 'id_publication', doc)"
   ]
  },
  {
   "cell_type": "code",
   "execution_count": 74,
   "metadata": {},
   "outputs": [],
   "source": [
    "# article_doc_term[article_doc_term[\"1519574\"] > 0]"
   ]
  },
  {
   "cell_type": "markdown",
   "metadata": {},
   "source": [
    "### document termes"
   ]
  },
  {
   "cell_type": "code",
   "execution_count": 137,
   "metadata": {},
   "outputs": [
    {
     "name": "stderr",
     "output_type": "stream",
     "text": [
      "100%|██████████| 12775614/12775614 [00:14<00:00, 905425.14it/s] \n"
     ]
    }
   ],
   "source": [
    "tm = {}\n",
    "ct = {}\n",
    "ok=False\n",
    "for s in tqdm(datas):\n",
    "    s = s.strip().replace(\"\\n\", \"\")\n",
    "    if s != \"\":\n",
    "        if \"#*\" in s :\n",
    "            ok=False\n",
    "        if \"#cSTOC\" in s or \"#cSIGIR\" in s :\n",
    "            ok=True\n",
    "        if ok: \n",
    "            if \"#index\" in s :\n",
    "                ref = int(s[6:].replace(\"\\n\", \"\"))\n",
    "                continue\n",
    "\n",
    "            if \"#%\" in s:\n",
    "                citation = s[2:].replace(\"\\n\", \"\")\n",
    "                \n",
    "                if str(ref) in tm.keys():\n",
    "                    tm[str(ref)].append(str(citation))\n",
    "                else:\n",
    "                    tm[str(ref)] = [str(citation)]"
   ]
  },
  {
   "cell_type": "code",
   "execution_count": null,
   "metadata": {},
   "outputs": [],
   "source": []
  },
  {
   "cell_type": "code",
   "execution_count": null,
   "metadata": {},
   "outputs": [],
   "source": []
  },
  {
   "cell_type": "markdown",
   "metadata": {},
   "source": [
    "## Qlick Sense "
   ]
  },
  {
   "cell_type": "code",
   "execution_count": 10,
   "metadata": {},
   "outputs": [],
   "source": [
    "datas = pd.read_csv(\"stoc_sigir.csv\")"
   ]
  },
  {
   "cell_type": "markdown",
   "metadata": {},
   "source": [
    "#### Autheur plus productif"
   ]
  },
  {
   "cell_type": "code",
   "execution_count": 26,
   "metadata": {},
   "outputs": [],
   "source": [
    "auth = pd.read_csv(\"author_publication\")"
   ]
  },
  {
   "cell_type": "code",
   "execution_count": 34,
   "metadata": {},
   "outputs": [],
   "source": [
    "prod = auth[['author', 'id_publication']].groupby(\"author\").agg(['count'])"
   ]
  },
  {
   "cell_type": "code",
   "execution_count": 37,
   "metadata": {},
   "outputs": [],
   "source": [
    "prod.to_csv(\"auteurs_plus_productif.csv\", index=True)"
   ]
  },
  {
   "cell_type": "markdown",
   "metadata": {},
   "source": [
    "#### Article les plus populaires"
   ]
  },
  {
   "cell_type": "code",
   "execution_count": 18,
   "metadata": {},
   "outputs": [
    {
     "data": {
      "text/html": [
       "<div>\n",
       "<style scoped>\n",
       "    .dataframe tbody tr th:only-of-type {\n",
       "        vertical-align: middle;\n",
       "    }\n",
       "\n",
       "    .dataframe tbody tr th {\n",
       "        vertical-align: top;\n",
       "    }\n",
       "\n",
       "    .dataframe thead th {\n",
       "        text-align: right;\n",
       "    }\n",
       "</style>\n",
       "<table border=\"1\" class=\"dataframe\">\n",
       "  <thead>\n",
       "    <tr style=\"text-align: right;\">\n",
       "      <th></th>\n",
       "      <th>Iden</th>\n",
       "      <th>Title</th>\n",
       "      <th>Authers</th>\n",
       "      <th>Year</th>\n",
       "      <th>Venue</th>\n",
       "      <th>Id</th>\n",
       "      <th>ListCitation</th>\n",
       "      <th>Abstract</th>\n",
       "      <th>NbrAuther</th>\n",
       "      <th>NbrCitation</th>\n",
       "    </tr>\n",
       "  </thead>\n",
       "  <tbody>\n",
       "    <tr>\n",
       "      <th>0</th>\n",
       "      <td>1</td>\n",
       "      <td>Formal models for expert finding in enterprise...</td>\n",
       "      <td>Krisztian Balog,Leif Azzopardi,Maarten de Rijke</td>\n",
       "      <td>2006</td>\n",
       "      <td>SIGIR</td>\n",
       "      <td>594377</td>\n",
       "      <td>595386 , 362694 , 772628 , 595551 , 26506 , 5...</td>\n",
       "      <td>Searching an organization's document reposito...</td>\n",
       "      <td>3</td>\n",
       "      <td>11</td>\n",
       "    </tr>\n",
       "    <tr>\n",
       "      <th>1</th>\n",
       "      <td>2</td>\n",
       "      <td>Latent Semantic Indexing is an Optimal Special...</td>\n",
       "      <td>Brian T. Bartell,Garrison W. Cottrell,Richard ...</td>\n",
       "      <td>1992</td>\n",
       "      <td>SIGIR</td>\n",
       "      <td>594378</td>\n",
       "      <td>771904 , 2025</td>\n",
       "      <td>Latent Semantic Indexing (LSI) is a technique...</td>\n",
       "      <td>3</td>\n",
       "      <td>2</td>\n",
       "    </tr>\n",
       "    <tr>\n",
       "      <th>2</th>\n",
       "      <td>3</td>\n",
       "      <td>Latent semantic-space: iterative scaling impro...</td>\n",
       "      <td>Rie Kubota Ando</td>\n",
       "      <td>2000</td>\n",
       "      <td>SIGIR</td>\n",
       "      <td>594379</td>\n",
       "      <td>937405 , 594378 , 243650 , 594808 , 594831 , ...</td>\n",
       "      <td>We present a novel algorithm that creates doc...</td>\n",
       "      <td>1</td>\n",
       "      <td>11</td>\n",
       "    </tr>\n",
       "    <tr>\n",
       "      <th>3</th>\n",
       "      <td>4</td>\n",
       "      <td>Automatic Combination of Multiple Ranked Retri...</td>\n",
       "      <td>Brian T. Bartell,Garrison W. Cottrell,Richard ...</td>\n",
       "      <td>1994</td>\n",
       "      <td>SIGIR</td>\n",
       "      <td>594380</td>\n",
       "      <td>1120095 , 772280 , 595299 , 936910 , 1120350 ...</td>\n",
       "      <td>NaN</td>\n",
       "      <td>3</td>\n",
       "      <td>6</td>\n",
       "    </tr>\n",
       "    <tr>\n",
       "      <th>4</th>\n",
       "      <td>5</td>\n",
       "      <td>Planning in an Expert System for Automated Inf...</td>\n",
       "      <td>Christine Barthes,Pierre Glize</td>\n",
       "      <td>1988</td>\n",
       "      <td>SIGIR</td>\n",
       "      <td>594381</td>\n",
       "      <td>595655 , 594818 , 594757 , 3446</td>\n",
       "      <td>Searching online databases requires an inform...</td>\n",
       "      <td>2</td>\n",
       "      <td>4</td>\n",
       "    </tr>\n",
       "  </tbody>\n",
       "</table>\n",
       "</div>"
      ],
      "text/plain": [
       "   Iden                                              Title  \\\n",
       "0     1  Formal models for expert finding in enterprise...   \n",
       "1     2  Latent Semantic Indexing is an Optimal Special...   \n",
       "2     3  Latent semantic-space: iterative scaling impro...   \n",
       "3     4  Automatic Combination of Multiple Ranked Retri...   \n",
       "4     5  Planning in an Expert System for Automated Inf...   \n",
       "\n",
       "                                             Authers  Year  Venue      Id  \\\n",
       "0    Krisztian Balog,Leif Azzopardi,Maarten de Rijke  2006  SIGIR  594377   \n",
       "1  Brian T. Bartell,Garrison W. Cottrell,Richard ...  1992  SIGIR  594378   \n",
       "2                                    Rie Kubota Ando  2000  SIGIR  594379   \n",
       "3  Brian T. Bartell,Garrison W. Cottrell,Richard ...  1994  SIGIR  594380   \n",
       "4                     Christine Barthes,Pierre Glize  1988  SIGIR  594381   \n",
       "\n",
       "                                        ListCitation  \\\n",
       "0   595386 , 362694 , 772628 , 595551 , 26506 , 5...   \n",
       "1                                      771904 , 2025   \n",
       "2   937405 , 594378 , 243650 , 594808 , 594831 , ...   \n",
       "3   1120095 , 772280 , 595299 , 936910 , 1120350 ...   \n",
       "4                    595655 , 594818 , 594757 , 3446   \n",
       "\n",
       "                                            Abstract  NbrAuther  NbrCitation  \n",
       "0   Searching an organization's document reposito...          3           11  \n",
       "1   Latent Semantic Indexing (LSI) is a technique...          3            2  \n",
       "2   We present a novel algorithm that creates doc...          1           11  \n",
       "3                                                NaN          3            6  \n",
       "4   Searching online databases requires an inform...          2            4  "
      ]
     },
     "execution_count": 18,
     "metadata": {},
     "output_type": "execute_result"
    }
   ],
   "source": [
    "articles = pd.read_csv(\"articles.csv\")\n",
    "articles.head()"
   ]
  },
  {
   "cell_type": "code",
   "execution_count": 19,
   "metadata": {},
   "outputs": [],
   "source": [
    "t = pd.DataFrame()"
   ]
  },
  {
   "cell_type": "code",
   "execution_count": 20,
   "metadata": {},
   "outputs": [],
   "source": [
    "t[\"title\"] = articles[\"Title\"]\n",
    "t[\"citations\"] = articles[\"NbrCitation\"]"
   ]
  },
  {
   "cell_type": "code",
   "execution_count": null,
   "metadata": {},
   "outputs": [],
   "source": []
  },
  {
   "cell_type": "code",
   "execution_count": 32,
   "metadata": {},
   "outputs": [],
   "source": [
    "p = t.sort_values(by=['citations'], ascending=False)"
   ]
  },
  {
   "cell_type": "code",
   "execution_count": 37,
   "metadata": {},
   "outputs": [],
   "source": [
    "p[0:25].to_csv(\"best_articles.csv\", index=False)"
   ]
  },
  {
   "cell_type": "code",
   "execution_count": null,
   "metadata": {},
   "outputs": [],
   "source": []
  },
  {
   "cell_type": "code",
   "execution_count": 133,
   "metadata": {},
   "outputs": [],
   "source": [
    "art = pd.read_csv(\"articles_best.csv\")"
   ]
  },
  {
   "cell_type": "code",
   "execution_count": 141,
   "metadata": {},
   "outputs": [],
   "source": [
    "art_b = [str(x).split(\",\") for x in list(art[\"ListCitation\"])]"
   ]
  },
  {
   "cell_type": "code",
   "execution_count": 143,
   "metadata": {},
   "outputs": [],
   "source": [
    "flat_id = [ y.strip() for x in art_b for y in x]"
   ]
  },
  {
   "cell_type": "code",
   "execution_count": 152,
   "metadata": {},
   "outputs": [],
   "source": [
    "from collections import Counter\n",
    "w = sorted([(v, k) for k, v in Counter(flat_id).items()], reverse=True)"
   ]
  },
  {
   "cell_type": "code",
   "execution_count": 177,
   "metadata": {},
   "outputs": [
    {
     "data": {
      "text/plain": [
       "[(1796, 'nan'),\n",
       " (161, '2025'),\n",
       " (100, '759'),\n",
       " (98, '595551'),\n",
       " (77, '936632'),\n",
       " (71, '610911'),\n",
       " (70, '621767'),\n",
       " (69, '85'),\n",
       " (66, '1059354'),\n",
       " (65, '596024'),\n",
       " (62, '793547'),\n",
       " (62, '595266'),\n",
       " (55, '595200'),\n",
       " (53, '164'),\n",
       " (51, '950870')]"
      ]
     },
     "execution_count": 177,
     "metadata": {},
     "output_type": "execute_result"
    }
   ],
   "source": [
    "# articles les plus cités\n",
    "w[0:15]"
   ]
  },
  {
   "cell_type": "code",
   "execution_count": 180,
   "metadata": {},
   "outputs": [
    {
     "data": {
      "text/html": [
       "<div>\n",
       "<style scoped>\n",
       "    .dataframe tbody tr th:only-of-type {\n",
       "        vertical-align: middle;\n",
       "    }\n",
       "\n",
       "    .dataframe tbody tr th {\n",
       "        vertical-align: top;\n",
       "    }\n",
       "\n",
       "    .dataframe thead th {\n",
       "        text-align: right;\n",
       "    }\n",
       "</style>\n",
       "<table border=\"1\" class=\"dataframe\">\n",
       "  <thead>\n",
       "    <tr style=\"text-align: right;\">\n",
       "      <th></th>\n",
       "      <th>Iden</th>\n",
       "      <th>Title</th>\n",
       "      <th>Authers</th>\n",
       "      <th>Year</th>\n",
       "      <th>Venue</th>\n",
       "      <th>Id</th>\n",
       "      <th>ListCitation</th>\n",
       "      <th>Abstract</th>\n",
       "      <th>NbrAuther</th>\n",
       "      <th>NbrCitation</th>\n",
       "    </tr>\n",
       "  </thead>\n",
       "  <tbody>\n",
       "    <tr>\n",
       "      <th>812</th>\n",
       "      <td>813</td>\n",
       "      <td>Document Language Models, Query Models, and Ri...</td>\n",
       "      <td>John D. Lafferty,ChengXiang Zhai</td>\n",
       "      <td>2001</td>\n",
       "      <td>SIGIR</td>\n",
       "      <td>595200</td>\n",
       "      <td>594518 , 790393 , 937019 , 610911 , 949996 , ...</td>\n",
       "      <td>We present a framework for information retrie...</td>\n",
       "      <td>2</td>\n",
       "      <td>9</td>\n",
       "    </tr>\n",
       "    <tr>\n",
       "      <th>1161</th>\n",
       "      <td>1162</td>\n",
       "      <td>A Language Modeling Approach to Information Re...</td>\n",
       "      <td>Jay M. Ponte,W. Bruce Croft</td>\n",
       "      <td>1998</td>\n",
       "      <td>SIGIR</td>\n",
       "      <td>595551</td>\n",
       "      <td>595181 , 936229 , 595621 , 184796 , 935823 , ...</td>\n",
       "      <td>NaN</td>\n",
       "      <td>2</td>\n",
       "      <td>6</td>\n",
       "    </tr>\n",
       "    <tr>\n",
       "      <th>1627</th>\n",
       "      <td>1628</td>\n",
       "      <td>A Study of Smoothing Methods for Language Mode...</td>\n",
       "      <td>ChengXiang Zhai,John D. Lafferty</td>\n",
       "      <td>2001</td>\n",
       "      <td>SIGIR</td>\n",
       "      <td>596024</td>\n",
       "      <td>595759 , 594518 , 790393 , 936632 , 595386 , ...</td>\n",
       "      <td>Language modeling approaches to information r...</td>\n",
       "      <td>2</td>\n",
       "      <td>9</td>\n",
       "    </tr>\n",
       "    <tr>\n",
       "      <th>2752</th>\n",
       "      <td>2753</td>\n",
       "      <td>The Complexity of Theorem-Proving Procedures</td>\n",
       "      <td>Stephen A. Cook</td>\n",
       "      <td>1971</td>\n",
       "      <td>STOC</td>\n",
       "      <td>621767</td>\n",
       "      <td>950008 , 950117 , 949989</td>\n",
       "      <td>It is shown that any recognition problem solv...</td>\n",
       "      <td>1</td>\n",
       "      <td>3</td>\n",
       "    </tr>\n",
       "  </tbody>\n",
       "</table>\n",
       "</div>"
      ],
      "text/plain": [
       "      Iden                                              Title  \\\n",
       "812    813  Document Language Models, Query Models, and Ri...   \n",
       "1161  1162  A Language Modeling Approach to Information Re...   \n",
       "1627  1628  A Study of Smoothing Methods for Language Mode...   \n",
       "2752  2753       The Complexity of Theorem-Proving Procedures   \n",
       "\n",
       "                               Authers  Year  Venue      Id  \\\n",
       "812   John D. Lafferty,ChengXiang Zhai  2001  SIGIR  595200   \n",
       "1161       Jay M. Ponte,W. Bruce Croft  1998  SIGIR  595551   \n",
       "1627  ChengXiang Zhai,John D. Lafferty  2001  SIGIR  596024   \n",
       "2752                   Stephen A. Cook  1971   STOC  621767   \n",
       "\n",
       "                                           ListCitation  \\\n",
       "812    594518 , 790393 , 937019 , 610911 , 949996 , ...   \n",
       "1161   595181 , 936229 , 595621 , 184796 , 935823 , ...   \n",
       "1627   595759 , 594518 , 790393 , 936632 , 595386 , ...   \n",
       "2752                           950008 , 950117 , 949989   \n",
       "\n",
       "                                               Abstract  NbrAuther  \\\n",
       "812    We present a framework for information retrie...          2   \n",
       "1161                                                NaN          2   \n",
       "1627   Language modeling approaches to information r...          2   \n",
       "2752   It is shown that any recognition problem solv...          1   \n",
       "\n",
       "      NbrCitation  \n",
       "812             9  \n",
       "1161            6  \n",
       "1627            9  \n",
       "2752            3  "
      ]
     },
     "execution_count": 180,
     "metadata": {},
     "output_type": "execute_result"
    }
   ],
   "source": [
    "art[art[\"Id\"].isin([595551, 936632, 610911, 621767, 1059354, 596024, 793547,595200]) ]"
   ]
  },
  {
   "cell_type": "code",
   "execution_count": 191,
   "metadata": {},
   "outputs": [
    {
     "data": {
      "text/plain": [
       "{1627: 'A Study of Smoothing Methods for Language Models Applied to Ad Hoc Information Retrieval.'}"
      ]
     },
     "execution_count": 191,
     "metadata": {},
     "output_type": "execute_result"
    }
   ],
   "source": [
    "art[art[\"Id\"] == 596024][\"Title\"].to_dict()"
   ]
  },
  {
   "cell_type": "markdown",
   "metadata": {},
   "source": [
    "### Année avec une grande productivité"
   ]
  },
  {
   "cell_type": "code",
   "execution_count": 162,
   "metadata": {},
   "outputs": [],
   "source": [
    "d = pd.read_csv(\"stoc_sigir.csv\")"
   ]
  },
  {
   "cell_type": "code",
   "execution_count": 61,
   "metadata": {},
   "outputs": [],
   "source": [
    "y = [ {\"year\":k, \"nb\":v} for k,v in  dict(d[\"year\"].value_counts()).items() ] "
   ]
  },
  {
   "cell_type": "code",
   "execution_count": 63,
   "metadata": {},
   "outputs": [],
   "source": [
    "y = pd.DataFrame(y)\n",
    "y.to_csv(\"distribution_annees.csv\", index=False)"
   ]
  },
  {
   "cell_type": "code",
   "execution_count": 64,
   "metadata": {},
   "outputs": [
    {
     "data": {
      "text/plain": [
       "5587"
      ]
     },
     "execution_count": 64,
     "metadata": {},
     "output_type": "execute_result"
    }
   ],
   "source": [
    "len(d)"
   ]
  },
  {
   "cell_type": "markdown",
   "metadata": {},
   "source": [
    "### Distribution nombre citation"
   ]
  },
  {
   "cell_type": "code",
   "execution_count": 117,
   "metadata": {},
   "outputs": [],
   "source": [
    "d = pd.read_csv(\"stoc_sigir.csv\")"
   ]
  },
  {
   "cell_type": "code",
   "execution_count": 121,
   "metadata": {},
   "outputs": [],
   "source": [
    "y = [ {\"cit\":k, \"nb\":v} for k,v in  dict(d[\"reference\"].value_counts()).items() ] "
   ]
  },
  {
   "cell_type": "code",
   "execution_count": 123,
   "metadata": {},
   "outputs": [],
   "source": [
    "y = pd.DataFrame(y)\n",
    "# y.to_csv(\"distribution_citation.csv\", index=False)"
   ]
  },
  {
   "cell_type": "markdown",
   "metadata": {},
   "source": [
    "### terme les plus utilisé"
   ]
  },
  {
   "cell_type": "code",
   "execution_count": 152,
   "metadata": {},
   "outputs": [],
   "source": [
    "from collections import Counter\n",
    "from nltk.corpus import stopwords\n",
    "stop = stopwords.words('english')"
   ]
  },
  {
   "cell_type": "code",
   "execution_count": 153,
   "metadata": {},
   "outputs": [],
   "source": [
    "d = pd.read_csv(\"stoc_sigir.csv\")"
   ]
  },
  {
   "cell_type": "code",
   "execution_count": 154,
   "metadata": {},
   "outputs": [],
   "source": [
    "word = [ y.replace(\")\",\"\").replace(\"(\",\"\").replace(\".\",\"\").lower() for x in list(d[\"title\"]) for y in x.split(\" \") ]"
   ]
  },
  {
   "cell_type": "code",
   "execution_count": 155,
   "metadata": {},
   "outputs": [],
   "source": [
    "l = [(v, k) for k,v in  Counter(word).items() if k not in stop]"
   ]
  },
  {
   "cell_type": "code",
   "execution_count": 156,
   "metadata": {},
   "outputs": [],
   "source": [
    "ndf = [{\"word\" : v[1], \"nb\": v[0]} for v in sorted(l, reverse=True)] "
   ]
  },
  {
   "cell_type": "code",
   "execution_count": 157,
   "metadata": {},
   "outputs": [],
   "source": [
    "df = pd.DataFrame(ndf[0:20])"
   ]
  },
  {
   "cell_type": "code",
   "execution_count": 158,
   "metadata": {},
   "outputs": [],
   "source": [
    "df.to_csv(\"termes_plus_utilise.csv\", index=False)"
   ]
  },
  {
   "cell_type": "markdown",
   "metadata": {},
   "source": [
    "#### matrice document terme title"
   ]
  },
  {
   "cell_type": "code",
   "execution_count": 4,
   "metadata": {},
   "outputs": [],
   "source": [
    "from sklearn.feature_extraction.text import TfidfVectorizer\n",
    "from sklearn.cluster import KMeans\n",
    "import matplotlib.pyplot as plt\n",
    "from nltk.corpus import stopwords\n",
    "import scikitplot as skplt\n",
    "from sklearn.decomposition import TruncatedSVD, NMF, SparsePCA, KernelPCA, PCA"
   ]
  },
  {
   "cell_type": "code",
   "execution_count": 5,
   "metadata": {},
   "outputs": [],
   "source": [
    "stc = pd.read_csv(\"stoc_sigir.csv\")"
   ]
  },
  {
   "cell_type": "code",
   "execution_count": 6,
   "metadata": {},
   "outputs": [],
   "source": [
    "doc = [ d for d in list(stc[\"title\"])]\n",
    "ids = [ d for d in list(stc[\"id\"])]"
   ]
  },
  {
   "cell_type": "code",
   "execution_count": 7,
   "metadata": {},
   "outputs": [],
   "source": [
    "vec = TfidfVectorizer(stop_words =\"english\")"
   ]
  },
  {
   "cell_type": "code",
   "execution_count": 8,
   "metadata": {},
   "outputs": [],
   "source": [
    "X = vec.fit_transform(doc)\n",
    "df = pd.DataFrame(X.toarray(), columns=vec.get_feature_names())"
   ]
  },
  {
   "cell_type": "code",
   "execution_count": null,
   "metadata": {},
   "outputs": [],
   "source": []
  },
  {
   "cell_type": "code",
   "execution_count": 12,
   "metadata": {},
   "outputs": [],
   "source": [
    "spca = PCA(n_components=2)\n",
    "reduced_data = spca.fit_transform(X.toarray())"
   ]
  },
  {
   "cell_type": "code",
   "execution_count": 13,
   "metadata": {},
   "outputs": [],
   "source": [
    "kmeans = KMeans(n_clusters=4, random_state=5).fit(reduced_data)"
   ]
  },
  {
   "cell_type": "code",
   "execution_count": 14,
   "metadata": {},
   "outputs": [],
   "source": [
    "Z = kmeans.predict(reduced_data)"
   ]
  },
  {
   "cell_type": "code",
   "execution_count": 28,
   "metadata": {},
   "outputs": [
    {
     "data": {
      "text/plain": [
       "<matplotlib.axes._subplots.AxesSubplot at 0x2959696d5c0>"
      ]
     },
     "execution_count": 28,
     "metadata": {},
     "output_type": "execute_result"
    },
    {
     "data": {
      "image/png": "[encoded data removed]",
      "text/plain": [
       "<Figure size 432x288 with 2 Axes>"
      ]
     },
     "metadata": {
      "needs_background": "light"
     },
     "output_type": "display_data"
    }
   ],
   "source": [
    "skplt.cluster.plot_elbow_curve(KMeans(random_state=1),reduced_data, cluster_ranges=range(1, 30))"
   ]
  },
  {
   "cell_type": "code",
   "execution_count": null,
   "metadata": {},
   "outputs": [],
   "source": []
  },
  {
   "cell_type": "code",
   "execution_count": 398,
   "metadata": {},
   "outputs": [
    {
     "data": {
      "text/plain": [
       "<matplotlib.axes._subplots.AxesSubplot at 0x28b85551cc0>"
      ]
     },
     "execution_count": 398,
     "metadata": {},
     "output_type": "execute_result"
    },
    {
     "data": {
      "image/png": "[encoded data removed]",
      "text/plain": [
       "<Figure size 432x288 with 1 Axes>"
      ]
     },
     "metadata": {
      "needs_background": "light"
     },
     "output_type": "display_data"
    }
   ],
   "source": [
    "skplt.decomposition.plot_pca_2d_projection(spca, X.toarray(),Z)"
   ]
  },
  {
   "cell_type": "code",
   "execution_count": 210,
   "metadata": {},
   "outputs": [
    {
     "data": {
      "text/plain": [
       "<matplotlib.axes._subplots.AxesSubplot at 0x296243212b0>"
      ]
     },
     "execution_count": 210,
     "metadata": {},
     "output_type": "execute_result"
    },
    {
     "data": {
      "image/png": "[encoded data removed]",
      "text/plain": [
       "<Figure size 432x288 with 1 Axes>"
      ]
     },
     "metadata": {
      "needs_background": "light"
     },
     "output_type": "display_data"
    }
   ],
   "source": [
    "skplt.decomposition.plot_pca_2d_projection(spca, X.toarray(),np.zeros(5587))"
   ]
  },
  {
   "cell_type": "code",
   "execution_count": null,
   "metadata": {},
   "outputs": [],
   "source": []
  },
  {
   "cell_type": "code",
   "execution_count": 15,
   "metadata": {},
   "outputs": [],
   "source": [
    "ct = kmeans.cluster_centers_"
   ]
  },
  {
   "cell_type": "code",
   "execution_count": 16,
   "metadata": {},
   "outputs": [
    {
     "data": {
      "text/plain": [
       "[-0.25, 0.6, -0.45, 0.4]"
      ]
     },
     "execution_count": 16,
     "metadata": {},
     "output_type": "execute_result"
    },
    {
     "data": {
      "image/png": "[encoded data removed]",
      "text/plain": [
       "<Figure size 432x288 with 1 Axes>"
      ]
     },
     "metadata": {
      "needs_background": "light"
     },
     "output_type": "display_data"
    }
   ],
   "source": [
    "plt.scatter(ct[:,0],ct[:,1], label='Cluster centroids')\n",
    "plt.axis([-0.25, 0.6, -0.45, 0.4])"
   ]
  },
  {
   "cell_type": "code",
   "execution_count": null,
   "metadata": {},
   "outputs": [],
   "source": []
  },
  {
   "cell_type": "code",
   "execution_count": null,
   "metadata": {},
   "outputs": [],
   "source": []
  },
  {
   "cell_type": "code",
   "execution_count": 366,
   "metadata": {},
   "outputs": [],
   "source": [
    "label_articles = np.concatenate((np.array(ids).reshape(-1,1), Z.reshape(-1, 1)), axis=1)"
   ]
  },
  {
   "cell_type": "code",
   "execution_count": 367,
   "metadata": {},
   "outputs": [],
   "source": [
    "label_articles = pd.DataFrame(label_articles, columns=(\"id\", \"label\"))"
   ]
  },
  {
   "cell_type": "code",
   "execution_count": null,
   "metadata": {},
   "outputs": [],
   "source": []
  },
  {
   "cell_type": "code",
   "execution_count": 382,
   "metadata": {},
   "outputs": [],
   "source": [
    "#cluster 0\n",
    "clus0 = label_articles[label_articles[\"label\"] == 0]\n",
    "clus0 = list(clus0[\"id\"])\n",
    "d_0 = d[d[\"id\"].isin(clus0)]\n",
    "word_0 = [ y.replace(\")\",\"\").replace(\"(\",\"\").replace(\".\",\"\").lower() for x in list(d_0[\"title\"]) for y in x.split(\" \") ]\n",
    "l_0 = [(v, k) for k,v in  Counter(word_0).items() if k not in stop]\n",
    "ndf_0 = [{\"word\" : v[1], \"nb\": v[0]} for v in sorted(l_0, reverse=True)]\n",
    "revu_0 = d_0[\"venu\"].value_counts()"
   ]
  },
  {
   "cell_type": "code",
   "execution_count": 383,
   "metadata": {},
   "outputs": [
    {
     "data": {
      "text/plain": [
       "STOC                                                                        1345\n",
       "SIGIR                                                                        453\n",
       "SIGIR Forum                                                                  136\n",
       "SIGIR Workshop: Information Retrieval Techniques for Speech Applications       3\n",
       "Name: venu, dtype: int64"
      ]
     },
     "execution_count": 383,
     "metadata": {},
     "output_type": "execute_result"
    }
   ],
   "source": [
    "revu_0"
   ]
  },
  {
   "cell_type": "code",
   "execution_count": 384,
   "metadata": {},
   "outputs": [],
   "source": [
    "#cluster 1\n",
    "clus1 = label_articles[label_articles[\"label\"] == 1]\n",
    "clus1 = list(clus1[\"id\"])\n",
    "d_1 = d[d[\"id\"].isin(clus1)]\n",
    "word_1 = [ y.replace(\")\",\"\").replace(\"(\",\"\").replace(\".\",\"\").lower() for x in list(d_1[\"title\"]) for y in x.split(\" \") ]\n",
    "l_1 = [(v, k) for k,v in  Counter(word_1).items() if k not in stop]\n",
    "ndf_1 = [{\"word\" : v[1], \"nb\": v[0]} for v in sorted(l_1, reverse=True)]\n",
    "revu_1 = d_1[\"venu\"].value_counts()"
   ]
  },
  {
   "cell_type": "code",
   "execution_count": 385,
   "metadata": {},
   "outputs": [
    {
     "data": {
      "text/plain": [
       "SIGIR                                                                       126\n",
       "SIGIR Forum                                                                  36\n",
       "STOC                                                                          2\n",
       "SIGIR Workshop: Information Retrieval Techniques for Speech Applications      2\n",
       "Name: venu, dtype: int64"
      ]
     },
     "execution_count": 385,
     "metadata": {},
     "output_type": "execute_result"
    }
   ],
   "source": [
    "revu_1"
   ]
  },
  {
   "cell_type": "code",
   "execution_count": 386,
   "metadata": {},
   "outputs": [],
   "source": [
    "#cluster 2\n",
    "clus2 = label_articles[label_articles[\"label\"] == 2]\n",
    "clus2 = list(clus2[\"id\"])\n",
    "d_2 = d[d[\"id\"].isin(clus2)]\n",
    "word_2 = [ y.replace(\")\",\"\").replace(\"(\",\"\").replace(\".\",\"\").lower() for x in list(d_2[\"title\"]) for y in x.split(\" \") ]\n",
    "l_2 = [(v, k) for k,v in  Counter(word_2).items() if k not in stop]\n",
    "ndf_2 = [{\"word\" : v[1], \"nb\": v[0]} for v in sorted(l_2, reverse=True)] \n",
    "revu_2 = d_2[\"venu\"].value_counts()"
   ]
  },
  {
   "cell_type": "code",
   "execution_count": 387,
   "metadata": {},
   "outputs": [
    {
     "data": {
      "text/plain": [
       "SIGIR          42\n",
       "STOC           41\n",
       "SIGIR Forum    11\n",
       "Name: venu, dtype: int64"
      ]
     },
     "execution_count": 387,
     "metadata": {},
     "output_type": "execute_result"
    }
   ],
   "source": [
    "revu_2"
   ]
  },
  {
   "cell_type": "code",
   "execution_count": 388,
   "metadata": {},
   "outputs": [],
   "source": [
    "#cluster 3\n",
    "clus3 = label_articles[label_articles[\"label\"] == 3]\n",
    "clus3 = list(clus3[\"id\"])\n",
    "d_3 = d[d[\"id\"].isin(clus3)]\n",
    "word_3 = [ y.replace(\")\",\"\").replace(\"(\",\"\").replace(\".\",\"\").lower() for x in list(d_3[\"title\"]) for y in x.split(\" \") ]\n",
    "l_3 = [(v, k) for k,v in  Counter(word_3).items() if k not in stop]\n",
    "ndf_3 = [{\"word\" : v[1], \"nb\": v[0]} for v in sorted(l_3, reverse=True)] \n",
    "revu_3 = d_3[\"venu\"].value_counts()"
   ]
  },
  {
   "cell_type": "code",
   "execution_count": null,
   "metadata": {},
   "outputs": [],
   "source": []
  },
  {
   "cell_type": "code",
   "execution_count": null,
   "metadata": {},
   "outputs": [],
   "source": []
  }
 ],
 "metadata": {
  "kernelspec": {
   "display_name": "Python 3",
   "language": "python",
   "name": "python3"
  },
  "language_info": {
   "codemirror_mode": {
    "name": "ipython",
    "version": 3
   },
   "file_extension": ".py",
   "mimetype": "text/x-python",
   "name": "python",
   "nbconvert_exporter": "python",
   "pygments_lexer": "ipython3",
   "version": "3.7.0"
  }
 },
 "nbformat": 4,
 "nbformat_minor": 2
}
